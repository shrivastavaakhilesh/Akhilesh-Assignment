{
 "cells": [
  {
   "cell_type": "markdown",
   "id": "79b576fb",
   "metadata": {},
   "source": [
    "Q.1. Why are functions advantageous to have in your programs?"
   ]
  },
  {
   "cell_type": "markdown",
   "id": "3648417e",
   "metadata": {},
   "source": [
    "Answer.  Functions reduce the need for duplicate code. This makes programs shorter, easier to read, and easier to update. The main advantage of functions is code Reusability."
   ]
  },
  {
   "cell_type": "markdown",
   "id": "8eec22e3",
   "metadata": {},
   "source": [
    "Q.2. When does the code in a function run: when it's specified or when it's called?"
   ]
  },
  {
   "cell_type": "markdown",
   "id": "d2587659",
   "metadata": {},
   "source": [
    "Answer. The code in a function executes when the function is called, not when the function is specified."
   ]
  },
  {
   "cell_type": "markdown",
   "id": "39fa068f",
   "metadata": {},
   "source": [
    "Q.3. What statement creates a function?"
   ]
  },
  {
   "cell_type": "code",
   "execution_count": null,
   "id": "d1844e81",
   "metadata": {},
   "outputs": [],
   "source": [
    "Answer. The def statement defines a function.\n",
    "Syntax of Function:\n",
    "def function_name(parameters):\n",
    "    \"\"\"doc string\"\"\"          \n",
    "    -----function body-----\n",
    "    -----function body-----\n",
    "    return value"
   ]
  },
  {
   "cell_type": "markdown",
   "id": "e172cd93",
   "metadata": {},
   "source": [
    "Q.4. What is the difference between a function and a function call?"
   ]
  },
  {
   "cell_type": "markdown",
   "id": "17937004",
   "metadata": {},
   "source": [
    "Answer.  A function is procedure to achieve a particular result. while function call is using this function to achive that task. Using a function to do a particular task any point in program is called as function call."
   ]
  },
  {
   "cell_type": "markdown",
   "id": "9fa5b10b",
   "metadata": {},
   "source": [
    "Q.5.  How many global scopes are there in a Python program? How many local scopes?"
   ]
  },
  {
   "cell_type": "markdown",
   "id": "7d991843",
   "metadata": {},
   "source": [
    "Answer. There is one global scope and a local scope is created whenever a function is called."
   ]
  },
  {
   "cell_type": "markdown",
   "id": "8dcdb47c",
   "metadata": {},
   "source": [
    "Q.6.  What happens to variables in a local scope when the function call returns?"
   ]
  },
  {
   "cell_type": "markdown",
   "id": "50d31e42",
   "metadata": {},
   "source": [
    "Answer. When a function returns, the local scope is destroyed, and all the variables in it are forgotten."
   ]
  },
  {
   "cell_type": "markdown",
   "id": "cbfe31b5",
   "metadata": {},
   "source": [
    "Q.7. What is the concept of a return value? Is it possible to have a return value in an expression?"
   ]
  },
  {
   "cell_type": "markdown",
   "id": "676e8752",
   "metadata": {},
   "source": [
    "Answer. A return value is the value that a function call evaluates to. Like any value, a return value can be used as part of an expression."
   ]
  },
  {
   "cell_type": "markdown",
   "id": "9b15edfe",
   "metadata": {},
   "source": [
    "Q.8.  If a function does not have a return statement, what is the return value of a call to that function?"
   ]
  },
  {
   "cell_type": "markdown",
   "id": "241b306d",
   "metadata": {},
   "source": [
    "Answer. If there is no return statement for a function, its return value is None."
   ]
  },
  {
   "cell_type": "markdown",
   "id": "6be42a4d",
   "metadata": {},
   "source": [
    "Q.9. How do you make a function variable refer to the global variable?"
   ]
  },
  {
   "cell_type": "markdown",
   "id": "be212989",
   "metadata": {},
   "source": [
    "Answer.  A global statement will force a variable in a function to refer to the global variable. If you want to refer to a global variable in a function, you can use the global keyword to declare which variables are global."
   ]
  },
  {
   "cell_type": "markdown",
   "id": "02e6f975",
   "metadata": {},
   "source": [
    "Q.10.  What is the data type of None?"
   ]
  },
  {
   "cell_type": "markdown",
   "id": "e5d72494",
   "metadata": {},
   "source": [
    "Answer. The data type of None is NoneType."
   ]
  },
  {
   "cell_type": "markdown",
   "id": "41d74595",
   "metadata": {},
   "source": [
    "Q.11. What does the sentence import areallyourpetsnamederic do?"
   ]
  },
  {
   "cell_type": "markdown",
   "id": "b41b8b10",
   "metadata": {},
   "source": [
    "Answer.  That import statement imports a module named areallyourpetsnamederic."
   ]
  },
  {
   "cell_type": "markdown",
   "id": "08f6be9a",
   "metadata": {},
   "source": [
    "Q.12.  If you had a bacon() feature in a spam module, what would you call it after importing spam?"
   ]
  },
  {
   "cell_type": "markdown",
   "id": "3beae45b",
   "metadata": {},
   "source": [
    "Answer. This function can be called with spam.bacon()."
   ]
  },
  {
   "cell_type": "markdown",
   "id": "f27b1ae0",
   "metadata": {},
   "source": [
    "Q.13. What can you do to save a programme from crashing if it encounters an error?"
   ]
  },
  {
   "cell_type": "markdown",
   "id": "b7d1a9c3",
   "metadata": {},
   "source": [
    "Answer. Place the line of code that might cause an error in a try clause and use except block to handle the error. "
   ]
  },
  {
   "cell_type": "markdown",
   "id": "83f7d1d1",
   "metadata": {},
   "source": [
    "Q.14. What is the purpose of the try clause? What is the purpose of the except clause?"
   ]
  },
  {
   "cell_type": "markdown",
   "id": "52d19691",
   "metadata": {},
   "source": [
    "Answer. The code that could potentially cause an error goes in the try clause. The code that executes if an error happens goes in the except clause."
   ]
  },
  {
   "cell_type": "code",
   "execution_count": null,
   "id": "15a976af",
   "metadata": {},
   "outputs": [],
   "source": []
  }
 ],
 "metadata": {
  "kernelspec": {
   "display_name": "Python 3 (ipykernel)",
   "language": "python",
   "name": "python3"
  },
  "language_info": {
   "codemirror_mode": {
    "name": "ipython",
    "version": 3
   },
   "file_extension": ".py",
   "mimetype": "text/x-python",
   "name": "python",
   "nbconvert_exporter": "python",
   "pygments_lexer": "ipython3",
   "version": "3.9.7"
  }
 },
 "nbformat": 4,
 "nbformat_minor": 5
}
